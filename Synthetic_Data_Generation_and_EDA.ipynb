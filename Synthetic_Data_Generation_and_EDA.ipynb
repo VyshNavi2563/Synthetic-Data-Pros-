{
  "cells": [
    {
      "cell_type": "markdown",
      "metadata": {
        "id": "view-in-github",
        "colab_type": "text"
      },
      "source": [
        "<a href=\"https://colab.research.google.com/github/VyshNavi2563/Synthetic-Data-Pros-/blob/main/Synthetic_Data_Generation_and_EDA.ipynb\" target=\"_parent\"><img src=\"https://colab.research.google.com/assets/colab-badge.svg\" alt=\"Open In Colab\"/></a>"
      ]
    },
    {
      "cell_type": "markdown",
      "metadata": {
        "id": "REWLvl9-EA8x"
      },
      "source": [
        "***Importing the required packages***"
      ]
    },
    {
      "cell_type": "code",
      "execution_count": null,
      "metadata": {
        "id": "SwFSNiELBNWW"
      },
      "outputs": [],
      "source": [
        "import numpy as np\n",
        "import pandas as pd\n",
        "import matplotlib.pyplot as plt\n",
        "import seaborn as sns"
      ]
    },
    {
      "cell_type": "markdown",
      "metadata": {
        "id": "XWDsTuZwHCnU"
      },
      "source": [
        "#Generating synthetic data"
      ]
    },
    {
      "cell_type": "markdown",
      "metadata": {
        "id": "pfMj_vdiEGCV"
      },
      "source": [
        "***Defining the No.of samples for synthetic data***"
      ]
    },
    {
      "cell_type": "code",
      "execution_count": null,
      "metadata": {
        "id": "16EuiVY2BRbX"
      },
      "outputs": [],
      "source": [
        "def generate_synthetic_data(n_samples=1000):\n",
        " np.random.seed(42)"
      ]
    },
    {
      "cell_type": "markdown",
      "metadata": {
        "id": "Vp97Xc9OEN8C"
      },
      "source": [
        "***Generating features of the n_samples***"
      ]
    },
    {
      "cell_type": "code",
      "execution_count": null,
      "metadata": {
        "id": "8jwKXX7zBWxg"
      },
      "outputs": [],
      "source": [
        "n_samples=1000\n",
        "age = np.random.normal(loc=35, scale=10, size=n_samples).clip(18, 70)  # Age between 18 and 70\n",
        "income = np.random.lognormal(mean=10, sigma=0.5, size=n_samples)\n",
        "gender = np.random.choice(['Male', 'Female'], size=n_samples)\n",
        "purchase_amount = income * np.random.uniform(0.01, 0.2, size=n_samples)\n",
        "customer_segment = np.random.choice(['A', 'B', 'C'], size=n_samples)"
      ]
    },
    {
      "cell_type": "markdown",
      "metadata": {
        "id": "148j1bhWEUgC"
      },
      "source": [
        "***Creating a DataFrame***"
      ]
    },
    {
      "cell_type": "code",
      "execution_count": null,
      "metadata": {
        "id": "8YhYn_weCiOW"
      },
      "outputs": [],
      "source": [
        "data = pd.DataFrame({\n",
        "        'Age': age,\n",
        "        'Income': income,\n",
        "        'Gender': gender,\n",
        "        'PurchaseAmount': purchase_amount,\n",
        "        'CustomerSegment': customer_segment\n",
        "    })"
      ]
    },
    {
      "cell_type": "markdown",
      "metadata": {
        "id": "uwmutH_CCrgU"
      },
      "source": [
        "#Exploratory Data Analysis(EDA)"
      ]
    },
    {
      "cell_type": "markdown",
      "metadata": {
        "id": "78VDRaf3HbM0"
      },
      "source": [
        "***DEFINING DATA TO PERFORM EDA***"
      ]
    },
    {
      "cell_type": "code",
      "execution_count": null,
      "metadata": {
        "id": "eFPuPzOWCnw8"
      },
      "outputs": [],
      "source": [
        "def perform_eda(data):\n",
        "    pass"
      ]
    },
    {
      "cell_type": "markdown",
      "metadata": {
        "id": "W3sDAgcQEfkB"
      },
      "source": [
        "***Printing the information of Data***"
      ]
    },
    {
      "cell_type": "code",
      "execution_count": null,
      "metadata": {
        "colab": {
          "base_uri": "https://localhost:8080/"
        },
        "id": "X9mkX_-dCugz",
        "outputId": "f6564a2b-9e52-48de-f77e-2ddbf5de5743"
      },
      "outputs": [
        {
          "name": "stdout",
          "output_type": "stream",
          "text": [
            "<class 'pandas.core.frame.DataFrame'>\n",
            "RangeIndex: 1000 entries, 0 to 999\n",
            "Data columns (total 5 columns):\n",
            " #   Column           Non-Null Count  Dtype  \n",
            "---  ------           --------------  -----  \n",
            " 0   Age              1000 non-null   float64\n",
            " 1   Income           1000 non-null   float64\n",
            " 2   Gender           1000 non-null   object \n",
            " 3   PurchaseAmount   1000 non-null   float64\n",
            " 4   CustomerSegment  1000 non-null   object \n",
            "dtypes: float64(3), object(2)\n",
            "memory usage: 39.2+ KB\n",
            "None\n"
          ]
        }
      ],
      "source": [
        "print(data.info())"
      ]
    },
    {
      "cell_type": "markdown",
      "metadata": {
        "id": "aYwUaIKcEjyR"
      },
      "source": [
        "***Describing the Attributes of data***"
      ]
    },
    {
      "cell_type": "code",
      "execution_count": null,
      "metadata": {
        "colab": {
          "base_uri": "https://localhost:8080/"
        },
        "id": "DtThtGEjC0ee",
        "outputId": "78775ef4-6711-451e-b896-4a0e562141b6"
      },
      "outputs": [
        {
          "name": "stdout",
          "output_type": "stream",
          "text": [
            "                Age        Income Gender  PurchaseAmount CustomerSegment\n",
            "count   1000.000000   1000.000000   1000     1000.000000            1000\n",
            "unique          NaN           NaN      2             NaN               3\n",
            "top             NaN           NaN   Male             NaN               A\n",
            "freq            NaN           NaN    533             NaN             338\n",
            "mean      35.074675  24206.725329    NaN     2455.677116             NaN\n",
            "std        9.436951  12542.150309    NaN     1944.697438             NaN\n",
            "min       18.000000   3673.751758    NaN      110.063631             NaN\n",
            "25%       28.469237  15594.500072    NaN     1042.605949             NaN\n",
            "50%       34.301070  21645.518294    NaN     2015.298974             NaN\n",
            "75%       41.726511  29921.224614    NaN     3296.577243             NaN\n",
            "max       62.688923  99444.587121    NaN    16899.976577             NaN\n"
          ]
        }
      ],
      "source": [
        "print(data.describe(include='all'))"
      ]
    },
    {
      "cell_type": "code",
      "execution_count": null,
      "metadata": {
        "colab": {
          "base_uri": "https://localhost:8080/"
        },
        "id": "5bTDIYMHC2-j",
        "outputId": "f895df2d-26d9-40f9-832a-75e8333aac1f"
      },
      "outputs": [
        {
          "name": "stdout",
          "output_type": "stream",
          "text": [
            "Age                0\n",
            "Income             0\n",
            "Gender             0\n",
            "PurchaseAmount     0\n",
            "CustomerSegment    0\n",
            "dtype: int64\n"
          ]
        }
      ],
      "source": [
        "print(data.isnull().sum())"
      ]
    },
    {
      "cell_type": "markdown",
      "metadata": {
        "id": "XRCx05BhE5bR"
      },
      "source": [
        "***UNIVARIATE ANALYSIS OF AGE DISTRIBUTION***"
      ]
    },
    {
      "cell_type": "code",
      "execution_count": null,
      "metadata": {
        "id": "uBAqVULhC5NQ"
      },
      "outputs": [],
      "source": [
        "plt.figure(figsize=(10, 6))\n",
        "sns.histplot(data['Age'], bins=30, kde=True, color='blue')\n",
        "plt.title('Age Distribution')\n",
        "plt.show()"
      ]
    },
    {
      "cell_type": "markdown",
      "metadata": {
        "id": "eUmFhi9YFI6E"
      },
      "source": [
        "***UNIVARIATE ANALYSIS OF INCOME DISTRIBUTION***"
      ]
    },
    {
      "cell_type": "code",
      "execution_count": null,
      "metadata": {
        "colab": {
          "background_save": true
        },
        "id": "kLk2U49ZC_je",
        "outputId": "954549e0-5842-43aa-b39c-5f77752caf15"
      },
      "outputs": [
        {
          "data": {
            "image/png": "[encoded data removed]",
            "text/plain": [
              "<Figure size 1000x600 with 1 Axes>"
            ]
          },
          "metadata": {},
          "output_type": "display_data"
        }
      ],
      "source": [
        "plt.figure(figsize=(10, 6))\n",
        "sns.histplot(data['Income'], bins=30, kde=True, color='green')\n",
        "plt.title('Income Distribution')\n",
        "plt.show()"
      ]
    },
    {
      "cell_type": "markdown",
      "metadata": {
        "id": "mz68czOvFMhQ"
      },
      "source": [
        "***UNIVARIATE ANALYSIS OF PURCHASE AMOUNT DISTRIBUTION***"
      ]
    },
    {
      "cell_type": "code",
      "execution_count": null,
      "metadata": {
        "id": "dwJPbMTQDEgi"
      },
      "outputs": [],
      "source": [
        "plt.figure(figsize=(10, 6))\n",
        "sns.histplot(data['PurchaseAmount'], bins=30, kde=True, color='purple')\n",
        "plt.title('Purchase Amount Distribution')\n",
        "plt.show()"
      ]
    },
    {
      "cell_type": "markdown",
      "metadata": {
        "id": "ccPj1iGxFQ5X"
      },
      "source": [
        "***CATEGORICAL ANALYSIS OF GENDER DISTRIBUTION***"
      ]
    },
    {
      "cell_type": "code",
      "execution_count": null,
      "metadata": {
        "id": "e7jKWT-IDJQN"
      },
      "outputs": [],
      "source": [
        "plt.figure(figsize=(10, 6))\n",
        "sns.countplot(x='Gender', data=data, palette='pastel')\n",
        "plt.title('Gender Distribution')\n",
        "plt.show()"
      ]
    },
    {
      "cell_type": "markdown",
      "metadata": {
        "id": "KxuU3Cl7FjWq"
      },
      "source": [
        "***CATEGORICAL ANALYSIS OF CUSTOMER SEGMENT DISTRIBUTION***"
      ]
    },
    {
      "cell_type": "code",
      "execution_count": null,
      "metadata": {
        "id": "uvcy4Bj6DR8K"
      },
      "outputs": [],
      "source": [
        "plt.figure(figsize=(10, 6))\n",
        "sns.countplot(x='CustomerSegment', data=data, palette='pastel')\n",
        "plt.title('Customer Segment Distribution')\n",
        "plt.show()"
      ]
    },
    {
      "cell_type": "markdown",
      "metadata": {
        "id": "9VuJQEjkFvQQ"
      },
      "source": [
        "***BIVARIATE ANALYSIS OF INCOME BY GENDER***"
      ]
    },
    {
      "cell_type": "code",
      "execution_count": null,
      "metadata": {
        "id": "BkNMkvCuDWyF"
      },
      "outputs": [],
      "source": [
        "plt.figure(figsize=(10, 6))\n",
        "sns.boxplot(x='Gender', y='Income', data=data, palette='Set2')\n",
        "plt.title('Income by Gender')\n",
        "plt.show()"
      ]
    },
    {
      "cell_type": "markdown",
      "metadata": {
        "id": "11KXD1t3F7Y7"
      },
      "source": [
        "***BIVARIATE ANALYSIS OF AGE VS PURCHASE AMOUNT***"
      ]
    },
    {
      "cell_type": "code",
      "execution_count": null,
      "metadata": {
        "id": "t-kKsJOJDeAJ"
      },
      "outputs": [],
      "source": [
        "plt.figure(figsize=(10, 6))\n",
        "sns.scatterplot(x='Age', y='PurchaseAmount', hue='CustomerSegment', data=data, palette='viridis')\n",
        "plt.title('Age vs Purchase Amount')\n",
        "plt.show()"
      ]
    },
    {
      "cell_type": "code",
      "execution_count": null,
      "metadata": {
        "id": "aWxgf-fWDjWZ"
      },
      "outputs": [],
      "source": [
        "def eda_synthetic_data(data):\n",
        "    pass\n",
        "if __name__ == \"__main__\":\n",
        "    synthetic_data = generate_synthetic_data(n_samples=1000)\n",
        "    perform_eda(synthetic_data)\n",
        "    print(eda_synthetic_data)"
      ]
    }
  ],
  "metadata": {
    "colab": {
      "provenance": [],
      "authorship_tag": "ABX9TyOe4lhzMGBMvzB4lkcJSY4P",
      "include_colab_link": true
    },
    "kernelspec": {
      "display_name": "Python 3",
      "name": "python3"
    },
    "language_info": {
      "name": "python"
    }
  },
  "nbformat": 4,
  "nbformat_minor": 0
}